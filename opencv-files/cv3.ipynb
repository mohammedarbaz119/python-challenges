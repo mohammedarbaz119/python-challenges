{
 "cells": [
  {
   "cell_type": "code",
   "execution_count": 1,
   "metadata": {},
   "outputs": [],
   "source": [
    "import cv2 as cv \n",
    "import numpy as np"
   ]
  },
  {
   "cell_type": "code",
   "execution_count": 2,
   "metadata": {},
   "outputs": [],
   "source": [
    "haar_data = cv.CascadeClassifier('D:\\Code\\otebooks\\haar.xml')\n",
    "cap = cv.VideoCapture(0)\n",
    "while True:\n",
    "    flag, img = cap.read()\n",
    "    if flag:\n",
    "        faces = haar_data.detectMultiScale(img)\n",
    "        for x,y,w,h in faces:\n",
    "            cv.rectangle(img,(x,y),(x+w,y+h),(0,255,0),thickness=2)\n",
    "        cv.imshow('result',img)\n",
    "        if cv.waitKey(20) & 0xFF == ord('q'):\n",
    "            break   \n",
    "cap.release()    \n",
    "cv.destroyAllWindows()\n"
   ]
  },
  {
   "cell_type": "code",
   "execution_count": null,
   "metadata": {},
   "outputs": [
    {
     "name": "stdout",
     "output_type": "stream",
     "text": [
      "0\n",
      "1\n",
      "2\n",
      "3\n",
      "4\n",
      "5\n",
      "6\n",
      "7\n",
      "8\n",
      "9\n",
      "10\n",
      "11\n",
      "12\n",
      "13\n",
      "14\n",
      "15\n",
      "16\n",
      "17\n",
      "18\n",
      "19\n",
      "20\n",
      "21\n",
      "22\n",
      "23\n",
      "24\n",
      "25\n",
      "26\n",
      "27\n",
      "28\n",
      "29\n",
      "30\n",
      "31\n",
      "32\n",
      "33\n",
      "34\n",
      "35\n",
      "36\n",
      "37\n",
      "38\n",
      "39\n",
      "40\n",
      "41\n",
      "42\n",
      "43\n",
      "44\n",
      "45\n",
      "46\n",
      "47\n",
      "48\n",
      "49\n",
      "50\n",
      "51\n",
      "52\n",
      "53\n",
      "54\n",
      "55\n",
      "56\n",
      "57\n",
      "58\n",
      "59\n",
      "60\n",
      "61\n",
      "62\n",
      "63\n",
      "64\n",
      "65\n",
      "66\n",
      "67\n",
      "68\n",
      "69\n",
      "70\n",
      "71\n",
      "72\n",
      "73\n",
      "74\n",
      "75\n",
      "76\n",
      "77\n",
      "78\n",
      "79\n",
      "80\n",
      "81\n",
      "82\n",
      "83\n",
      "84\n",
      "85\n",
      "86\n",
      "87\n",
      "88\n",
      "89\n",
      "90\n",
      "91\n",
      "92\n",
      "93\n",
      "94\n",
      "95\n",
      "96\n",
      "97\n",
      "98\n",
      "99\n",
      "100\n",
      "101\n",
      "102\n",
      "103\n",
      "104\n",
      "105\n",
      "106\n",
      "107\n",
      "108\n",
      "109\n",
      "110\n",
      "111\n",
      "112\n",
      "113\n",
      "114\n",
      "115\n",
      "116\n",
      "117\n",
      "118\n",
      "119\n",
      "120\n",
      "121\n",
      "122\n",
      "123\n",
      "124\n",
      "125\n",
      "126\n",
      "127\n",
      "128\n",
      "129\n",
      "130\n",
      "131\n",
      "132\n",
      "133\n",
      "134\n",
      "135\n",
      "136\n",
      "137\n",
      "138\n",
      "139\n",
      "140\n",
      "141\n",
      "142\n",
      "143\n",
      "144\n",
      "145\n",
      "146\n",
      "147\n",
      "148\n",
      "149\n",
      "150\n",
      "151\n",
      "152\n",
      "153\n",
      "154\n",
      "155\n",
      "156\n",
      "157\n",
      "158\n",
      "159\n",
      "160\n",
      "161\n",
      "162\n",
      "163\n",
      "164\n",
      "165\n",
      "166\n",
      "167\n",
      "168\n",
      "169\n",
      "170\n",
      "171\n",
      "172\n",
      "173\n",
      "174\n",
      "175\n",
      "176\n",
      "177\n",
      "178\n",
      "179\n",
      "180\n",
      "181\n",
      "182\n",
      "183\n",
      "184\n",
      "185\n",
      "186\n",
      "187\n",
      "188\n",
      "189\n",
      "190\n",
      "191\n",
      "192\n",
      "193\n",
      "194\n",
      "195\n",
      "196\n",
      "197\n",
      "198\n",
      "199\n"
     ]
    }
   ],
   "source": [
    "data = []\n",
    "cap = cv.VideoCapture(0)\n",
    "while True:\n",
    "    flag, img = cap.read()\n",
    "    if flag:\n",
    "        faces = haar_data.detectMultiScale(img)\n",
    "        for x,y,w,h in faces:\n",
    "            cv.rectangle(img,(x,y),(x+w,y+h),(0,255,0),4)\n",
    "            face = img[y:y+h,x:x+w, :]\n",
    "            face = cv.resize(face,(50,50))\n",
    "            print(len(data))\n",
    "            if len(data)< 400:\n",
    "                data.append(face)\n",
    "        cv.imshow('result',img)\n",
    "        if cv.waitKey(20) & 0xFF == ord('q') or len(data)>=200:\n",
    "            break   \n",
    "cap.release()    \n",
    "cv.destroyAllWindows()\n",
    "\n"
   ]
  },
  {
   "cell_type": "code",
   "execution_count": null,
   "metadata": {},
   "outputs": [],
   "source": []
  },
  {
   "cell_type": "code",
   "execution_count": null,
   "metadata": {},
   "outputs": [],
   "source": [
    "np.save('withoutmask.npy',data)"
   ]
  },
  {
   "cell_type": "code",
   "execution_count": null,
   "metadata": {},
   "outputs": [
    {
     "name": "stdout",
     "output_type": "stream",
     "text": [
      "0\n",
      "1\n",
      "2\n",
      "3\n",
      "4\n",
      "5\n",
      "6\n",
      "7\n",
      "8\n",
      "9\n",
      "10\n",
      "11\n",
      "12\n",
      "13\n",
      "14\n",
      "15\n",
      "16\n",
      "17\n",
      "18\n",
      "19\n",
      "20\n",
      "21\n",
      "22\n",
      "23\n",
      "24\n",
      "25\n",
      "26\n",
      "27\n",
      "28\n",
      "29\n",
      "30\n",
      "31\n",
      "32\n",
      "33\n",
      "34\n",
      "35\n",
      "36\n",
      "37\n",
      "38\n",
      "39\n",
      "40\n",
      "41\n",
      "42\n",
      "43\n",
      "44\n",
      "45\n",
      "46\n",
      "47\n",
      "48\n",
      "49\n",
      "50\n",
      "51\n",
      "52\n",
      "53\n",
      "54\n",
      "55\n",
      "56\n",
      "57\n",
      "58\n",
      "59\n",
      "60\n",
      "61\n",
      "62\n",
      "63\n",
      "64\n",
      "65\n",
      "66\n",
      "67\n",
      "68\n",
      "69\n",
      "70\n",
      "71\n",
      "72\n",
      "73\n",
      "74\n",
      "75\n",
      "76\n",
      "77\n",
      "78\n",
      "79\n",
      "80\n",
      "81\n",
      "82\n",
      "83\n",
      "84\n",
      "85\n",
      "86\n",
      "87\n",
      "88\n",
      "89\n",
      "90\n",
      "91\n",
      "92\n",
      "93\n",
      "94\n",
      "95\n",
      "96\n",
      "97\n",
      "98\n",
      "99\n",
      "100\n",
      "101\n",
      "102\n",
      "103\n",
      "104\n",
      "105\n",
      "106\n",
      "107\n",
      "108\n",
      "109\n",
      "110\n",
      "111\n",
      "112\n",
      "113\n",
      "114\n",
      "115\n",
      "116\n",
      "117\n",
      "118\n",
      "119\n",
      "120\n",
      "121\n",
      "122\n",
      "123\n",
      "124\n",
      "125\n",
      "126\n",
      "127\n",
      "128\n",
      "129\n",
      "130\n",
      "131\n",
      "132\n",
      "133\n",
      "134\n",
      "135\n",
      "136\n",
      "137\n",
      "138\n",
      "139\n",
      "140\n",
      "141\n",
      "142\n",
      "143\n",
      "144\n",
      "145\n",
      "146\n",
      "147\n",
      "148\n",
      "149\n",
      "150\n",
      "151\n",
      "152\n",
      "153\n",
      "154\n",
      "155\n",
      "156\n",
      "157\n",
      "158\n",
      "159\n",
      "160\n",
      "161\n",
      "162\n",
      "163\n",
      "164\n",
      "165\n",
      "166\n",
      "167\n",
      "168\n",
      "169\n",
      "170\n",
      "171\n",
      "172\n",
      "173\n",
      "174\n",
      "175\n",
      "176\n",
      "177\n",
      "178\n",
      "179\n",
      "180\n",
      "181\n",
      "182\n",
      "183\n",
      "184\n",
      "185\n",
      "186\n",
      "187\n",
      "188\n",
      "189\n",
      "190\n",
      "191\n",
      "192\n",
      "193\n",
      "194\n",
      "195\n",
      "196\n",
      "197\n",
      "198\n",
      "199\n",
      "200\n"
     ]
    }
   ],
   "source": [
    "data1 = []\n",
    "cap = cv.VideoCapture(0)\n",
    "while True:\n",
    "    flag, img = cap.read()\n",
    "    if flag:\n",
    "        faces = haar_data.detectMultiScale(img)\n",
    "        for x,y,w,h in faces:\n",
    "            cv.rectangle(img,(x,y),(x+w,y+h),(0,255,0),4)\n",
    "            face = img[y:y+h,x:x+w, :]\n",
    "            face = cv.resize(face,(50,50))\n",
    "            print(len(data1))\n",
    "            if len(data1)< 400:\n",
    "                data1.append(face)\n",
    "        cv.imshow('result',img)\n",
    "        if cv.waitKey(20) & 0xFF == ord('q') or len(data1)>=200:\n",
    "            break   \n",
    "cap.release()    \n",
    "cv.destroyAllWindows()\n"
   ]
  },
  {
   "cell_type": "code",
   "execution_count": null,
   "metadata": {},
   "outputs": [
    {
     "data": {
      "text/plain": [
       "<matplotlib.image.AxesImage at 0x2468fc22d30>"
      ]
     },
     "metadata": {},
     "output_type": "display_data"
    },
    {
     "data": {
      "image/png": "[encoded data removed]",
      "text/plain": [
       "<Figure size 432x288 with 1 Axes>"
      ]
     },
     "metadata": {},
     "output_type": "display_data"
    }
   ],
   "source": [
    "import matplotlib.pyplot as plt\n",
    "plt.imshow(data1[25])"
   ]
  },
  {
   "cell_type": "code",
   "execution_count": null,
   "metadata": {},
   "outputs": [],
   "source": [
    "np.save('withmask.npy',data1)"
   ]
  },
  {
   "cell_type": "code",
   "execution_count": null,
   "metadata": {},
   "outputs": [],
   "source": [
    "with_mask = np.load('D:\\Code\\otebooks\\withmask.npy')\n",
    "without_mask = np.load('D:\\Code\\otebooks\\withoutmask.npy')"
   ]
  },
  {
   "cell_type": "code",
   "execution_count": null,
   "metadata": {},
   "outputs": [
    {
     "data": {
      "text/plain": [
       "(201, 50, 50, 3)"
      ]
     },
     "execution_count": 27,
     "metadata": {},
     "output_type": "execute_result"
    }
   ],
   "source": [
    "with_mask.shape\n"
   ]
  },
  {
   "cell_type": "code",
   "execution_count": null,
   "metadata": {},
   "outputs": [
    {
     "data": {
      "text/plain": [
       "(200, 50, 50, 3)"
      ]
     },
     "execution_count": 22,
     "metadata": {},
     "output_type": "execute_result"
    }
   ],
   "source": [
    "without_mask.shape"
   ]
  },
  {
   "cell_type": "code",
   "execution_count": null,
   "metadata": {},
   "outputs": [],
   "source": [
    "with_mask = with_mask.reshape(201,50*50*3)\n",
    "without_mask = without_mask.reshape(200,50*50*3)"
   ]
  },
  {
   "cell_type": "code",
   "execution_count": null,
   "metadata": {},
   "outputs": [
    {
     "data": {
      "text/plain": [
       "(201, 7500)"
      ]
     },
     "execution_count": 29,
     "metadata": {},
     "output_type": "execute_result"
    }
   ],
   "source": [
    "with_mask.shape"
   ]
  },
  {
   "cell_type": "code",
   "execution_count": null,
   "metadata": {},
   "outputs": [
    {
     "data": {
      "text/plain": [
       "(200, 7500)"
      ]
     },
     "execution_count": 30,
     "metadata": {},
     "output_type": "execute_result"
    }
   ],
   "source": [
    "without_mask.shape"
   ]
  },
  {
   "cell_type": "code",
   "execution_count": null,
   "metadata": {},
   "outputs": [],
   "source": [
    "X = np.r_[with_mask,without_mask]"
   ]
  },
  {
   "cell_type": "code",
   "execution_count": null,
   "metadata": {},
   "outputs": [
    {
     "data": {
      "text/plain": [
       "(401, 7500)"
      ]
     },
     "execution_count": 32,
     "metadata": {},
     "output_type": "execute_result"
    }
   ],
   "source": [
    "X.shape"
   ]
  },
  {
   "cell_type": "code",
   "execution_count": null,
   "metadata": {},
   "outputs": [],
   "source": [
    "labels = np.zeros(X.shape[0])"
   ]
  },
  {
   "cell_type": "code",
   "execution_count": null,
   "metadata": {},
   "outputs": [],
   "source": [
    "labels[200:] = 1.0"
   ]
  },
  {
   "cell_type": "code",
   "execution_count": null,
   "metadata": {},
   "outputs": [],
   "source": [
    "names = {0 :'mask', 1 : 'no mask'}"
   ]
  },
  {
   "cell_type": "code",
   "execution_count": null,
   "metadata": {},
   "outputs": [],
   "source": [
    "from sklearn.svm import SVC\n",
    "from sklearn.metrics import accuracy_score\n",
    "from sklearn.model_selection import train_test_split\n"
   ]
  },
  {
   "cell_type": "code",
   "execution_count": null,
   "metadata": {},
   "outputs": [],
   "source": [
    "x_train,x_test,y_train,y_test = train_test_split(X,labels,test_size =0.25)\n"
   ]
  },
  {
   "cell_type": "code",
   "execution_count": null,
   "metadata": {},
   "outputs": [
    {
     "data": {
      "text/plain": [
       "(300, 7500)"
      ]
     },
     "execution_count": 37,
     "metadata": {},
     "output_type": "execute_result"
    }
   ],
   "source": [
    "x_train.shape"
   ]
  },
  {
   "cell_type": "code",
   "execution_count": null,
   "metadata": {},
   "outputs": [
    {
     "data": {
      "text/plain": [
       "(101, 7500)"
      ]
     },
     "execution_count": 38,
     "metadata": {},
     "output_type": "execute_result"
    }
   ],
   "source": [
    "x_test.shape"
   ]
  },
  {
   "cell_type": "code",
   "execution_count": null,
   "metadata": {},
   "outputs": [],
   "source": [
    "from sklearn.decomposition import PCA"
   ]
  },
  {
   "cell_type": "code",
   "execution_count": null,
   "metadata": {},
   "outputs": [],
   "source": [
    "pca = PCA(n_components=3)\n",
    "x_train = pca.fit_transform(x_train)"
   ]
  },
  {
   "cell_type": "code",
   "execution_count": null,
   "metadata": {},
   "outputs": [
    {
     "data": {
      "text/plain": [
       "array([5556.31573435, -113.96499036, -282.27839281])"
      ]
     },
     "execution_count": 41,
     "metadata": {},
     "output_type": "execute_result"
    }
   ],
   "source": [
    "x_train[0]"
   ]
  },
  {
   "cell_type": "code",
   "execution_count": null,
   "metadata": {},
   "outputs": [
    {
     "data": {
      "text/plain": [
       "(300, 3)"
      ]
     },
     "execution_count": 42,
     "metadata": {},
     "output_type": "execute_result"
    }
   ],
   "source": [
    "x_train.shape"
   ]
  },
  {
   "cell_type": "code",
   "execution_count": null,
   "metadata": {},
   "outputs": [
    {
     "data": {
      "text/plain": [
       "(300,)"
      ]
     },
     "execution_count": 51,
     "metadata": {},
     "output_type": "execute_result"
    }
   ],
   "source": [
    "y_train.shape"
   ]
  },
  {
   "cell_type": "code",
   "execution_count": null,
   "metadata": {},
   "outputs": [
    {
     "data": {
      "text/plain": [
       "SVC()"
      ]
     },
     "execution_count": 60,
     "metadata": {},
     "output_type": "execute_result"
    }
   ],
   "source": [
    "svm = SVC()\n",
    "svm.fit(x_train,y_train)"
   ]
  },
  {
   "cell_type": "code",
   "execution_count": null,
   "metadata": {},
   "outputs": [
    {
     "data": {
      "text/plain": [
       "array([0., 1., 0., 1., 1., 1., 0., 1., 1., 1., 0., 1., 1., 0., 0., 0., 1.,\n",
       "       1., 1., 1., 1., 0., 0., 0., 0., 0., 1., 0., 0., 1., 0., 1., 0., 1.,\n",
       "       0., 0., 0., 0., 1., 0., 1., 0., 1., 1., 0., 0., 0., 1., 1., 0., 1.,\n",
       "       1., 0., 1., 0., 1., 0., 0., 0., 1., 0., 0., 1., 1., 1., 1., 1., 0.,\n",
       "       0., 1., 0., 0., 1., 0., 0., 1., 1., 1., 0., 1., 0., 0., 0., 1., 0.,\n",
       "       1., 1., 0., 0., 0., 0., 1., 0., 1., 1., 0., 1., 0., 0., 1., 0.])"
      ]
     },
     "execution_count": 61,
     "metadata": {},
     "output_type": "execute_result"
    }
   ],
   "source": [
    "svm.predict(x_test)"
   ]
  },
  {
   "cell_type": "code",
   "execution_count": null,
   "metadata": {},
   "outputs": [
    {
     "data": {
      "text/plain": [
       "0.8118811881188119"
      ]
     },
     "execution_count": 62,
     "metadata": {},
     "output_type": "execute_result"
    }
   ],
   "source": [
    "y_pred = svm.predict(x_test)\n",
    "accuracy_score(y_test,y_pred)"
   ]
  },
  {
   "cell_type": "code",
   "execution_count": null,
   "metadata": {},
   "outputs": [
    {
     "data": {
      "text/plain": [
       "(101, 7500)"
      ]
     },
     "execution_count": 64,
     "metadata": {},
     "output_type": "execute_result"
    }
   ],
   "source": [
    "x_test.shape"
   ]
  },
  {
   "cell_type": "code",
   "execution_count": null,
   "metadata": {},
   "outputs": [
    {
     "name": "stdout",
     "output_type": "stream",
     "text": [
      "mask\n",
      "mask\n",
      "mask\n",
      "mask\n",
      "mask\n",
      "mask\n",
      "mask\n",
      "no mask\n",
      "no mask\n",
      "no mask\n",
      "no mask\n",
      "mask\n",
      "no mask\n",
      "mask\n",
      "mask\n",
      "no mask\n",
      "no mask\n",
      "mask\n",
      "no mask\n",
      "no mask\n",
      "mask\n",
      "mask\n",
      "mask\n",
      "no mask\n",
      "mask\n",
      "no mask\n",
      "mask\n",
      "no mask\n",
      "no mask\n",
      "mask\n",
      "mask\n",
      "no mask\n",
      "mask\n",
      "mask\n",
      "mask\n",
      "no mask\n",
      "mask\n",
      "no mask\n",
      "mask\n",
      "mask\n",
      "no mask\n",
      "mask\n",
      "no mask\n",
      "mask\n",
      "no mask\n",
      "mask\n",
      "mask\n",
      "no mask\n",
      "mask\n",
      "mask\n",
      "no mask\n",
      "mask\n",
      "no mask\n",
      "mask\n",
      "no mask\n",
      "mask\n",
      "no mask\n",
      "no mask\n",
      "mask\n",
      "no mask\n",
      "mask\n",
      "no mask\n",
      "mask\n",
      "no mask\n",
      "mask\n",
      "no mask\n",
      "mask\n",
      "no mask\n",
      "no mask\n",
      "mask\n",
      "no mask\n",
      "no mask\n",
      "no mask\n",
      "mask\n",
      "no mask\n",
      "no mask\n",
      "mask\n",
      "mask\n",
      "mask\n",
      "mask\n",
      "no mask\n",
      "mask\n",
      "mask\n",
      "no mask\n",
      "no mask\n",
      "mask\n",
      "mask\n",
      "no mask\n",
      "mask\n",
      "mask\n",
      "mask\n",
      "mask\n",
      "mask\n",
      "no mask\n",
      "mask\n",
      "no mask\n",
      "no mask\n",
      "mask\n",
      "no mask\n",
      "no mask\n",
      "no mask\n",
      "mask\n",
      "mask\n",
      "no mask\n",
      "no mask\n",
      "mask\n",
      "no mask\n",
      "no mask\n",
      "no mask\n",
      "mask\n",
      "mask\n",
      "mask\n",
      "no mask\n",
      "mask\n",
      "mask\n",
      "no mask\n",
      "mask\n",
      "mask\n",
      "no mask\n",
      "no mask\n",
      "no mask\n",
      "mask\n",
      "mask\n",
      "no mask\n",
      "no mask\n",
      "no mask\n",
      "no mask\n",
      "no mask\n",
      "no mask\n",
      "mask\n",
      "mask\n",
      "no mask\n",
      "mask\n",
      "no mask\n",
      "mask\n",
      "no mask\n",
      "mask\n",
      "no mask\n",
      "mask\n",
      "mask\n",
      "no mask\n",
      "mask\n",
      "mask\n",
      "no mask\n",
      "mask\n",
      "mask\n",
      "mask\n",
      "no mask\n",
      "no mask\n",
      "mask\n",
      "no mask\n",
      "no mask\n",
      "mask\n",
      "no mask\n",
      "mask\n",
      "no mask\n",
      "mask\n",
      "no mask\n",
      "mask\n",
      "no mask\n",
      "mask\n",
      "no mask\n",
      "mask\n",
      "no mask\n",
      "no mask\n",
      "mask\n",
      "mask\n",
      "no mask\n",
      "mask\n",
      "no mask\n",
      "no mask\n",
      "no mask\n",
      "mask\n",
      "mask\n",
      "no mask\n",
      "mask\n",
      "mask\n",
      "no mask\n",
      "mask\n",
      "no mask\n",
      "no mask\n",
      "mask\n",
      "no mask\n",
      "no mask\n",
      "mask\n",
      "no mask\n",
      "no mask\n",
      "mask\n",
      "no mask\n",
      "no mask\n",
      "no mask\n",
      "no mask\n",
      "mask\n",
      "no mask\n",
      "no mask\n",
      "mask\n",
      "no mask\n",
      "mask\n",
      "mask\n",
      "no mask\n",
      "mask\n",
      "no mask\n",
      "mask\n",
      "no mask\n",
      "mask\n",
      "no mask\n",
      "no mask\n",
      "no mask\n",
      "no mask\n",
      "no mask\n",
      "no mask\n",
      "mask\n",
      "mask\n",
      "no mask\n",
      "mask\n",
      "no mask\n",
      "no mask\n",
      "mask\n",
      "no mask\n",
      "no mask\n",
      "no mask\n",
      "mask\n",
      "mask\n",
      "mask\n",
      "no mask\n",
      "mask\n",
      "no mask\n",
      "mask\n",
      "mask\n",
      "no mask\n",
      "no mask\n",
      "mask\n",
      "no mask\n",
      "mask\n",
      "no mask\n",
      "mask\n",
      "no mask\n",
      "no mask\n",
      "no mask\n",
      "no mask\n",
      "no mask\n",
      "no mask\n",
      "mask\n",
      "no mask\n",
      "mask\n",
      "no mask\n",
      "mask\n",
      "mask\n",
      "no mask\n",
      "no mask\n",
      "mask\n",
      "no mask\n",
      "mask\n",
      "no mask\n",
      "mask\n",
      "no mask\n",
      "no mask\n",
      "no mask\n",
      "mask\n",
      "no mask\n",
      "no mask\n",
      "no mask\n",
      "mask\n",
      "no mask\n",
      "no mask\n",
      "mask\n",
      "no mask\n",
      "no mask\n",
      "no mask\n",
      "no mask\n",
      "mask\n",
      "mask\n",
      "mask\n",
      "no mask\n",
      "no mask\n",
      "no mask\n",
      "mask\n",
      "no mask\n",
      "mask\n",
      "no mask\n",
      "no mask\n",
      "no mask\n",
      "no mask\n",
      "no mask\n",
      "no mask\n",
      "no mask\n",
      "no mask\n",
      "no mask\n",
      "no mask\n",
      "no mask\n",
      "no mask\n",
      "no mask\n",
      "no mask\n",
      "no mask\n",
      "no mask\n",
      "no mask\n",
      "no mask\n",
      "no mask\n",
      "mask\n",
      "no mask\n",
      "mask\n",
      "mask\n"
     ]
    }
   ],
   "source": [
    "cap = cv.VideoCapture(0)\n",
    "while True:\n",
    "    flag, img = cap.read()\n",
    "    if flag:\n",
    "        faces = haar_data.detectMultiScale(img)\n",
    "        for x,y,w,h in faces:\n",
    "            cv.rectangle(img,(x,y),(x+w,y+h),(0,255,0),4)\n",
    "            face = img[y:y+h,x:x+w, :]\n",
    "            face = cv.resize(face,(50,50))\n",
    "            face = face.reshape(1,-1)\n",
    "            pred =svm.predict(face)\n",
    "            n = names[int(pred)]\n",
    "            print(n)\n",
    "        cv.imshow('result',img)\n",
    "        if cv.waitKey(20) & 0xFF == ord('q'):\n",
    "            break   \n",
    "cap.release()    \n",
    "cv.destroyAllWindows()"
   ]
  }
 ],
 "metadata": {
  "interpreter": {
   "hash": "11938c6bc6919ae2720b4d5011047913343b08a43b18698fd82dedb0d4417594"
  },
  "kernelspec": {
   "display_name": "Python 3.9.6 64-bit",
   "language": "python",
   "name": "python3"
  },
  "language_info": {
   "codemirror_mode": {
    "name": "ipython",
    "version": 3
   },
   "file_extension": ".py",
   "mimetype": "text/x-python",
   "name": "python",
   "nbconvert_exporter": "python",
   "pygments_lexer": "ipython3",
   "version": "3.9.6"
  },
  "orig_nbformat": 4
 },
 "nbformat": 4,
 "nbformat_minor": 2
}
